{
  "cells": [
    {
      "cell_type": "markdown",
      "metadata": {
        "id": "view-in-github",
        "colab_type": "text"
      },
      "source": [
        "<a href=\"https://colab.research.google.com/github/syedshahlal/Airfoil-Regression-With-Deployment-main/blob/main/site/en/tutorials/keras/keras_tuner.ipynb\" target=\"_parent\"><img src=\"https://colab.research.google.com/assets/colab-badge.svg\" alt=\"Open In Colab\"/></a>"
      ]
    },
    {
      "cell_type": "markdown",
      "metadata": {
        "id": "Tce3stUlHN0L"
      },
      "source": [
        "##### Copyright 2020 The TensorFlow Authors."
      ]
    },
    {
      "cell_type": "code",
      "execution_count": null,
      "metadata": {
        "cellView": "form",
        "id": "tuOe1ymfHZPu"
      },
      "outputs": [],
      "source": [
        "#@title Licensed under the Apache License, Version 2.0 (the \"License\");\n",
        "# you may not use this file except in compliance with the License.\n",
        "# You may obtain a copy of the License at\n",
        "#\n",
        "# https://www.apache.org/licenses/LICENSE-2.0\n",
        "#\n",
        "# Unless required by applicable law or agreed to in writing, software\n",
        "# distributed under the License is distributed on an \"AS IS\" BASIS,\n",
        "# WITHOUT WARRANTIES OR CONDITIONS OF ANY KIND, either express or implied.\n",
        "# See the License for the specific language governing permissions and\n",
        "# limitations under the License."
      ]
    },
    {
      "cell_type": "markdown",
      "metadata": {
        "id": "qFdPvlXBOdUN"
      },
      "source": [
        "# Introduction to the Keras Tuner"
      ]
    },
    {
      "cell_type": "markdown",
      "metadata": {
        "id": "MfBg1C5NB3X0"
      },
      "source": [
        "<table class=\"tfo-notebook-buttons\" align=\"left\">\n",
        "  <td>\n",
        "    <a target=\"_blank\" href=\"https://www.tensorflow.org/tutorials/keras/keras_tuner\"><img src=\"https://www.tensorflow.org/images/tf_logo_32px.png\" />View on TensorFlow.org</a>\n",
        "  </td>\n",
        "  <td>\n",
        "    <a target=\"_blank\" href=\"https://colab.research.google.com/github/tensorflow/docs/blob/master/site/en/tutorials/keras/keras_tuner.ipynb\"><img src=\"https://www.tensorflow.org/images/colab_logo_32px.png\" />Run in Google Colab</a>\n",
        "  </td>\n",
        "  <td>\n",
        "    <a target=\"_blank\" href=\"https://github.com/tensorflow/docs/blob/master/site/en/tutorials/keras/keras_tuner.ipynb\"><img src=\"https://www.tensorflow.org/images/GitHub-Mark-32px.png\" />View source on GitHub</a>\n",
        "  </td>\n",
        "  <td>\n",
        "    <a href=\"https://storage.googleapis.com/tensorflow_docs/docs/site/en/tutorials/keras/keras_tuner.ipynb\"><img src=\"https://www.tensorflow.org/images/download_logo_32px.png\" />Download notebook</a>\n",
        "  </td>\n",
        "</table>"
      ]
    },
    {
      "cell_type": "markdown",
      "metadata": {
        "id": "xHxb-dlhMIzW"
      },
      "source": [
        "## Overview\n",
        "\n",
        "The Keras Tuner is a library that helps you pick the optimal set of hyperparameters for your TensorFlow program. The process of selecting the right set of hyperparameters for your machine learning (ML) application is called *hyperparameter tuning* or *hypertuning*.\n",
        "\n",
        "Hyperparameters are the variables that govern the training process and the topology of an ML model. These variables remain constant over the training process and directly impact the performance of your ML program. Hyperparameters are of two types:\n",
        "1. **Model hyperparameters** which influence model selection such as the number and width of hidden layers\n",
        "2. **Algorithm hyperparameters** which influence the speed and quality of the learning algorithm such as the learning rate for Stochastic Gradient Descent (SGD) and the number of nearest neighbors for a k Nearest Neighbors (KNN) classifier\n",
        "\n",
        "In this tutorial, you will use the Keras Tuner to perform hypertuning for an image classification application."
      ]
    },
    {
      "cell_type": "markdown",
      "metadata": {
        "id": "MUXex9ctTuDB"
      },
      "source": [
        "## Setup"
      ]
    },
    {
      "cell_type": "code",
      "execution_count": 1,
      "metadata": {
        "id": "IqR2PQG4ZaZ0"
      },
      "outputs": [],
      "source": [
        "import tensorflow as tf\n",
        "from tensorflow import keras"
      ]
    },
    {
      "cell_type": "markdown",
      "metadata": {
        "id": "g83Lwsy-Aq2_"
      },
      "source": [
        "Install and import the Keras Tuner."
      ]
    },
    {
      "cell_type": "code",
      "execution_count": 3,
      "metadata": {
        "id": "hpMLpbt9jcO6",
        "colab": {
          "base_uri": "https://localhost:8080/"
        },
        "outputId": "e5c0d268-ad63-4fd9-ad11-0b94f15367d0"
      },
      "outputs": [
        {
          "output_type": "stream",
          "name": "stdout",
          "text": [
            "\u001b[?25l     \u001b[90m━━━━━━━━━━━━━━━━━━━━━━━━━━━━━━━━━━━━━━━━\u001b[0m \u001b[32m0.0/129.5 kB\u001b[0m \u001b[31m?\u001b[0m eta \u001b[36m-:--:--\u001b[0m\r\u001b[2K     \u001b[91m━━━━━━━━━━━━━━━━━━━━━━━━━━━━━━━━━━━━━\u001b[0m\u001b[91m╸\u001b[0m\u001b[90m━━\u001b[0m \u001b[32m122.9/129.5 kB\u001b[0m \u001b[31m4.2 MB/s\u001b[0m eta \u001b[36m0:00:01\u001b[0m\r\u001b[2K     \u001b[90m━━━━━━━━━━━━━━━━━━━━━━━━━━━━━━━━━━━━━━━━\u001b[0m \u001b[32m129.5/129.5 kB\u001b[0m \u001b[31m3.5 MB/s\u001b[0m eta \u001b[36m0:00:00\u001b[0m\n",
            "\u001b[?25h\u001b[?25l     \u001b[90m━━━━━━━━━━━━━━━━━━━━━━━━━━━━━━━━━━━━━━━━\u001b[0m \u001b[32m0.0/950.8 kB\u001b[0m \u001b[31m?\u001b[0m eta \u001b[36m-:--:--\u001b[0m\r\u001b[2K     \u001b[90m━━━━━━━━━━━━━━━━━━━━━━━━━━━━━━━━━━━━━━━━\u001b[0m \u001b[32m950.8/950.8 kB\u001b[0m \u001b[31m29.1 MB/s\u001b[0m eta \u001b[36m0:00:00\u001b[0m\n",
            "\u001b[?25h"
          ]
        }
      ],
      "source": [
        "!pip install -q -U keras-tuner"
      ]
    },
    {
      "cell_type": "code",
      "execution_count": 4,
      "metadata": {
        "id": "_leAIdFKAxAD",
        "colab": {
          "base_uri": "https://localhost:8080/"
        },
        "outputId": "5d28d6f3-4493-4e03-9fa3-7aa9ecb59aa3"
      },
      "outputs": [
        {
          "output_type": "stream",
          "name": "stdout",
          "text": [
            "Using TensorFlow backend\n"
          ]
        }
      ],
      "source": [
        "import keras_tuner as kt"
      ]
    },
    {
      "cell_type": "markdown",
      "metadata": {
        "id": "ReV_UXOgCZvx"
      },
      "source": [
        "## Download and prepare the dataset\n",
        "\n",
        "In this tutorial, you will use the Keras Tuner to find the best hyperparameters for a machine learning model that classifies images of clothing from the [Fashion MNIST dataset](https://github.com/zalandoresearch/fashion-mnist)."
      ]
    },
    {
      "cell_type": "markdown",
      "metadata": {
        "id": "HljH_ENLEdHa"
      },
      "source": [
        "Load the data."
      ]
    },
    {
      "cell_type": "code",
      "execution_count": 5,
      "metadata": {
        "id": "OHlHs9Wj_PUM",
        "colab": {
          "base_uri": "https://localhost:8080/"
        },
        "outputId": "64f06b87-e826-4551-b66a-7567c2f8031c"
      },
      "outputs": [
        {
          "output_type": "stream",
          "name": "stdout",
          "text": [
            "Downloading data from https://storage.googleapis.com/tensorflow/tf-keras-datasets/train-labels-idx1-ubyte.gz\n",
            "29515/29515 [==============================] - 0s 0us/step\n",
            "Downloading data from https://storage.googleapis.com/tensorflow/tf-keras-datasets/train-images-idx3-ubyte.gz\n",
            "26421880/26421880 [==============================] - 0s 0us/step\n",
            "Downloading data from https://storage.googleapis.com/tensorflow/tf-keras-datasets/t10k-labels-idx1-ubyte.gz\n",
            "5148/5148 [==============================] - 0s 0us/step\n",
            "Downloading data from https://storage.googleapis.com/tensorflow/tf-keras-datasets/t10k-images-idx3-ubyte.gz\n",
            "4422102/4422102 [==============================] - 0s 0us/step\n"
          ]
        }
      ],
      "source": [
        "(img_train, label_train), (img_test, label_test) = keras.datasets.fashion_mnist.load_data()"
      ]
    },
    {
      "cell_type": "code",
      "execution_count": 6,
      "metadata": {
        "id": "bLVhXs3xrUD0"
      },
      "outputs": [],
      "source": [
        "# Normalize pixel values between 0 and 1\n",
        "img_train = img_train.astype('float32') / 255.0\n",
        "img_test = img_test.astype('float32') / 255.0"
      ]
    },
    {
      "cell_type": "markdown",
      "metadata": {
        "id": "K5YEL2H2Ax3e"
      },
      "source": [
        "## Define the model\n",
        "\n",
        "When you build a model for hypertuning, you also define the hyperparameter search space in addition to the model architecture. The model you set up for hypertuning is called a *hypermodel*.\n",
        "\n",
        "You can define a hypermodel through two approaches:\n",
        "\n",
        "* By using a model builder function\n",
        "* By subclassing the `HyperModel` class of the Keras Tuner API\n",
        "\n",
        "You can also use two pre-defined [HyperModel](https://keras.io/api/keras_tuner/hypermodels/) classes - [HyperXception](https://keras.io/api/keras_tuner/hypermodels/hyper_xception/) and [HyperResNet](https://keras.io/api/keras_tuner/hypermodels/hyper_resnet/) for computer vision applications.\n",
        "\n",
        "In this tutorial, you use a model builder function to define the image classification model. The model builder function returns a compiled model and uses hyperparameters you define inline to hypertune the model."
      ]
    },
    {
      "cell_type": "code",
      "source": [
        "img_train[0][0].shape"
      ],
      "metadata": {
        "colab": {
          "base_uri": "https://localhost:8080/"
        },
        "id": "f2_jptTEjhzi",
        "outputId": "79c5cdb5-3aca-4617-a11f-3278a6660874"
      },
      "execution_count": 31,
      "outputs": [
        {
          "output_type": "execute_result",
          "data": {
            "text/plain": [
              "(28,)"
            ]
          },
          "metadata": {},
          "execution_count": 31
        }
      ]
    },
    {
      "cell_type": "code",
      "source": [
        "import matplotlib.pyplot as plt\n",
        "plt.imshow(img_train[5], cmap='binary')\n",
        "plt.axis('off')\n",
        "plt.show"
      ],
      "metadata": {
        "colab": {
          "base_uri": "https://localhost:8080/",
          "height": 423
        },
        "id": "WF5hAia8ltO5",
        "outputId": "f237db02-f3b4-459c-f450-f7cb1faef03a"
      },
      "execution_count": 26,
      "outputs": [
        {
          "output_type": "execute_result",
          "data": {
            "text/plain": [
              "<function matplotlib.pyplot.show(close=None, block=None)>"
            ]
          },
          "metadata": {},
          "execution_count": 26
        },
        {
          "output_type": "display_data",
          "data": {
            "text/plain": [
              "<Figure size 640x480 with 1 Axes>"
            ],
            "image/png": "[encoded data removed]"
          },
          "metadata": {}
        }
      ]
    },
    {
      "cell_type": "code",
      "execution_count": 32,
      "metadata": {
        "id": "ZQKodC-jtsva"
      },
      "outputs": [],
      "source": [
        "def model_builder(hp):\n",
        "  model = keras.Sequential()\n",
        "  model.add(keras.layers.Flatten(input_shape=(28, 28)))\n",
        "\n",
        "  # Tune the number of units in the first Dense layer\n",
        "  # Choose an optimal value between 32-512\n",
        "  hp_units = hp.Int('units', min_value=32, max_value=512, step=32)\n",
        "  model.add(keras.layers.Dense(units=hp_units, activation='relu'))\n",
        "  model.add(keras.layers.Dense(10))\n",
        "\n",
        "  # Tune the learning rate for the optimizer\n",
        "  # Choose an optimal value from 0.01, 0.001, or 0.0001\n",
        "  hp_learning_rate = hp.Choice('learning_rate', values=[1e-2, 1e-3, 1e-4])\n",
        "\n",
        "  model.compile(optimizer=keras.optimizers.Adam(learning_rate=hp_learning_rate),\n",
        "                loss=keras.losses.SparseCategoricalCrossentropy(from_logits=True),\n",
        "                metrics=['accuracy'])\n",
        "\n",
        "  return model"
      ]
    },
    {
      "cell_type": "markdown",
      "metadata": {
        "id": "0J1VYw4q3x0b"
      },
      "source": [
        "## Instantiate the tuner and perform hypertuning\n",
        "\n",
        "Instantiate the tuner to perform the hypertuning. The Keras Tuner has four tuners available - `RandomSearch`, `Hyperband`, `BayesianOptimization`, and `Sklearn`. In this tutorial, you use the [Hyperband](https://arxiv.org/pdf/1603.06560.pdf) tuner.\n",
        "\n",
        "To instantiate the Hyperband tuner, you must specify the hypermodel, the `objective` to optimize and the maximum number of epochs to train (`max_epochs`)."
      ]
    },
    {
      "cell_type": "code",
      "execution_count": 33,
      "metadata": {
        "id": "oichQFly6Y46"
      },
      "outputs": [],
      "source": [
        "tuner = kt.Hyperband(model_builder,\n",
        "                     objective='val_accuracy',\n",
        "                     max_epochs=10,\n",
        "                     factor=3,\n",
        "                     directory='my_dir',\n",
        "                     project_name='intro_to_kt')"
      ]
    },
    {
      "cell_type": "markdown",
      "metadata": {
        "id": "VaIhhdKf9VtI"
      },
      "source": [
        "The Hyperband tuning algorithm uses adaptive resource allocation and early-stopping to quickly converge on a high-performing model. This is done using a sports championship style bracket. The algorithm trains a large number of models for a few epochs and carries forward only the top-performing half of models to the next round. Hyperband determines the number of models to train in a bracket by computing 1 + log<sub>`factor`</sub>(`max_epochs`) and rounding it up to the nearest integer."
      ]
    },
    {
      "cell_type": "markdown",
      "metadata": {
        "id": "cwhBdXx0Ekj8"
      },
      "source": [
        "Create a callback to stop training early after reaching a certain value for the validation loss."
      ]
    },
    {
      "cell_type": "code",
      "execution_count": 34,
      "metadata": {
        "id": "WT9IkS9NEjLc"
      },
      "outputs": [],
      "source": [
        "stop_early = tf.keras.callbacks.EarlyStopping(monitor='val_loss', patience=5)"
      ]
    },
    {
      "cell_type": "markdown",
      "metadata": {
        "id": "UKghEo15Tduy"
      },
      "source": [
        "Run the hyperparameter search. The arguments for the search method are the same as those used for `tf.keras.model.fit` in addition to the callback above."
      ]
    },
    {
      "cell_type": "code",
      "execution_count": 35,
      "metadata": {
        "id": "dSBQcTHF9cKt",
        "colab": {
          "base_uri": "https://localhost:8080/"
        },
        "outputId": "c97c32c5-de14-4d1a-f3e6-6cfabdbf1a4d"
      },
      "outputs": [
        {
          "output_type": "stream",
          "name": "stdout",
          "text": [
            "Trial 30 Complete [00h 01m 23s]\n",
            "val_accuracy: 0.8900833129882812\n",
            "\n",
            "Best val_accuracy So Far: 0.8919166922569275\n",
            "Total elapsed time: 00h 14m 13s\n",
            "\n",
            "The hyperparameter search is complete. The optimal number of units in the first densely-connected\n",
            "layer is 256 and the optimal learning rate for the optimizer\n",
            "is 0.001.\n",
            "\n"
          ]
        }
      ],
      "source": [
        "tuner.search(img_train, label_train, epochs=50, validation_split=0.2, callbacks=[stop_early])\n",
        "\n",
        "# Get the optimal hyperparameters\n",
        "best_hps=tuner.get_best_hyperparameters(num_trials=1)[0]\n",
        "\n",
        "print(f\"\"\"\n",
        "The hyperparameter search is complete. The optimal number of units in the first densely-connected\n",
        "layer is {best_hps.get('units')} and the optimal learning rate for the optimizer\n",
        "is {best_hps.get('learning_rate')}.\n",
        "\"\"\")"
      ]
    },
    {
      "cell_type": "markdown",
      "metadata": {
        "id": "Lak_ylf88xBv"
      },
      "source": [
        "## Train the model\n",
        "\n",
        "Find the optimal number of epochs to train the model with the hyperparameters obtained from the search."
      ]
    },
    {
      "cell_type": "code",
      "execution_count": 36,
      "metadata": {
        "id": "McO82AXOuxXh",
        "colab": {
          "base_uri": "https://localhost:8080/"
        },
        "outputId": "105631bb-a8f5-447b-a10f-fa51a3e7c8a2"
      },
      "outputs": [
        {
          "output_type": "stream",
          "name": "stdout",
          "text": [
            "Epoch 1/50\n",
            "1500/1500 [==============================] - 6s 4ms/step - loss: 0.5003 - accuracy: 0.8230 - val_loss: 0.3953 - val_accuracy: 0.8554\n",
            "Epoch 2/50\n",
            "1500/1500 [==============================] - 5s 4ms/step - loss: 0.3754 - accuracy: 0.8644 - val_loss: 0.3804 - val_accuracy: 0.8629\n",
            "Epoch 3/50\n",
            "1500/1500 [==============================] - 4s 3ms/step - loss: 0.3375 - accuracy: 0.8770 - val_loss: 0.3515 - val_accuracy: 0.8698\n",
            "Epoch 4/50\n",
            "1500/1500 [==============================] - 5s 3ms/step - loss: 0.3106 - accuracy: 0.8854 - val_loss: 0.3647 - val_accuracy: 0.8692\n",
            "Epoch 5/50\n",
            "1500/1500 [==============================] - 5s 4ms/step - loss: 0.2900 - accuracy: 0.8916 - val_loss: 0.3206 - val_accuracy: 0.8848\n",
            "Epoch 6/50\n",
            "1500/1500 [==============================] - 4s 3ms/step - loss: 0.2742 - accuracy: 0.8988 - val_loss: 0.3175 - val_accuracy: 0.8868\n",
            "Epoch 7/50\n",
            "1500/1500 [==============================] - 5s 3ms/step - loss: 0.2624 - accuracy: 0.9024 - val_loss: 0.3558 - val_accuracy: 0.8724\n",
            "Epoch 8/50\n",
            "1500/1500 [==============================] - 5s 3ms/step - loss: 0.2500 - accuracy: 0.9062 - val_loss: 0.3315 - val_accuracy: 0.8827\n",
            "Epoch 9/50\n",
            "1500/1500 [==============================] - 5s 3ms/step - loss: 0.2393 - accuracy: 0.9092 - val_loss: 0.3353 - val_accuracy: 0.8830\n",
            "Epoch 10/50\n",
            "1500/1500 [==============================] - 5s 4ms/step - loss: 0.2311 - accuracy: 0.9134 - val_loss: 0.3139 - val_accuracy: 0.8929\n",
            "Epoch 11/50\n",
            "1500/1500 [==============================] - 5s 3ms/step - loss: 0.2203 - accuracy: 0.9177 - val_loss: 0.3180 - val_accuracy: 0.8894\n",
            "Epoch 12/50\n",
            "1500/1500 [==============================] - 4s 3ms/step - loss: 0.2124 - accuracy: 0.9200 - val_loss: 0.3589 - val_accuracy: 0.8831\n",
            "Epoch 13/50\n",
            "1500/1500 [==============================] - 5s 3ms/step - loss: 0.2073 - accuracy: 0.9221 - val_loss: 0.3250 - val_accuracy: 0.8918\n",
            "Epoch 14/50\n",
            "1500/1500 [==============================] - 4s 3ms/step - loss: 0.1994 - accuracy: 0.9242 - val_loss: 0.3146 - val_accuracy: 0.8907\n",
            "Epoch 15/50\n",
            "1500/1500 [==============================] - 5s 3ms/step - loss: 0.1916 - accuracy: 0.9269 - val_loss: 0.3129 - val_accuracy: 0.8955\n",
            "Epoch 16/50\n",
            "1500/1500 [==============================] - 5s 3ms/step - loss: 0.1864 - accuracy: 0.9301 - val_loss: 0.3187 - val_accuracy: 0.8917\n",
            "Epoch 17/50\n",
            "1500/1500 [==============================] - 5s 3ms/step - loss: 0.1796 - accuracy: 0.9314 - val_loss: 0.3233 - val_accuracy: 0.8936\n",
            "Epoch 18/50\n",
            "1500/1500 [==============================] - 6s 4ms/step - loss: 0.1757 - accuracy: 0.9332 - val_loss: 0.3223 - val_accuracy: 0.8947\n",
            "Epoch 19/50\n",
            "1500/1500 [==============================] - 5s 3ms/step - loss: 0.1701 - accuracy: 0.9372 - val_loss: 0.3443 - val_accuracy: 0.8900\n",
            "Epoch 20/50\n",
            "1500/1500 [==============================] - 4s 3ms/step - loss: 0.1634 - accuracy: 0.9388 - val_loss: 0.3437 - val_accuracy: 0.8957\n",
            "Epoch 21/50\n",
            "1500/1500 [==============================] - 5s 4ms/step - loss: 0.1581 - accuracy: 0.9400 - val_loss: 0.3350 - val_accuracy: 0.8977\n",
            "Epoch 22/50\n",
            "1500/1500 [==============================] - 4s 3ms/step - loss: 0.1553 - accuracy: 0.9425 - val_loss: 0.3417 - val_accuracy: 0.8923\n",
            "Epoch 23/50\n",
            "1500/1500 [==============================] - 5s 3ms/step - loss: 0.1488 - accuracy: 0.9439 - val_loss: 0.3542 - val_accuracy: 0.8966\n",
            "Epoch 24/50\n",
            "1500/1500 [==============================] - 5s 4ms/step - loss: 0.1462 - accuracy: 0.9445 - val_loss: 0.3566 - val_accuracy: 0.8940\n",
            "Epoch 25/50\n",
            "1500/1500 [==============================] - 4s 3ms/step - loss: 0.1401 - accuracy: 0.9466 - val_loss: 0.3881 - val_accuracy: 0.8922\n",
            "Epoch 26/50\n",
            "1500/1500 [==============================] - 5s 3ms/step - loss: 0.1367 - accuracy: 0.9484 - val_loss: 0.3811 - val_accuracy: 0.8905\n",
            "Epoch 27/50\n",
            "1500/1500 [==============================] - 4s 3ms/step - loss: 0.1338 - accuracy: 0.9496 - val_loss: 0.3667 - val_accuracy: 0.8953\n",
            "Epoch 28/50\n",
            "1500/1500 [==============================] - 5s 3ms/step - loss: 0.1297 - accuracy: 0.9509 - val_loss: 0.3615 - val_accuracy: 0.8943\n",
            "Epoch 29/50\n",
            "1500/1500 [==============================] - 5s 3ms/step - loss: 0.1261 - accuracy: 0.9525 - val_loss: 0.3887 - val_accuracy: 0.8874\n",
            "Epoch 30/50\n",
            "1500/1500 [==============================] - 5s 3ms/step - loss: 0.1226 - accuracy: 0.9535 - val_loss: 0.4126 - val_accuracy: 0.8890\n",
            "Epoch 31/50\n",
            "1500/1500 [==============================] - 5s 4ms/step - loss: 0.1196 - accuracy: 0.9556 - val_loss: 0.3949 - val_accuracy: 0.8919\n",
            "Epoch 32/50\n",
            "1500/1500 [==============================] - 5s 3ms/step - loss: 0.1165 - accuracy: 0.9561 - val_loss: 0.3998 - val_accuracy: 0.8957\n",
            "Epoch 33/50\n",
            "1500/1500 [==============================] - 4s 3ms/step - loss: 0.1146 - accuracy: 0.9578 - val_loss: 0.4145 - val_accuracy: 0.8931\n",
            "Epoch 34/50\n",
            "1500/1500 [==============================] - 5s 3ms/step - loss: 0.1128 - accuracy: 0.9574 - val_loss: 0.4208 - val_accuracy: 0.8919\n",
            "Epoch 35/50\n",
            "1500/1500 [==============================] - 5s 3ms/step - loss: 0.1089 - accuracy: 0.9585 - val_loss: 0.4344 - val_accuracy: 0.8915\n",
            "Epoch 36/50\n",
            "1500/1500 [==============================] - 4s 3ms/step - loss: 0.1060 - accuracy: 0.9598 - val_loss: 0.4093 - val_accuracy: 0.8950\n",
            "Epoch 37/50\n",
            "1500/1500 [==============================] - 5s 4ms/step - loss: 0.1048 - accuracy: 0.9602 - val_loss: 0.4468 - val_accuracy: 0.8870\n",
            "Epoch 38/50\n",
            "1500/1500 [==============================] - 4s 3ms/step - loss: 0.1004 - accuracy: 0.9613 - val_loss: 0.4511 - val_accuracy: 0.8914\n",
            "Epoch 39/50\n",
            "1500/1500 [==============================] - 5s 4ms/step - loss: 0.0984 - accuracy: 0.9635 - val_loss: 0.4450 - val_accuracy: 0.8940\n",
            "Epoch 40/50\n",
            "1500/1500 [==============================] - 5s 3ms/step - loss: 0.0952 - accuracy: 0.9642 - val_loss: 0.4683 - val_accuracy: 0.8910\n",
            "Epoch 41/50\n",
            "1500/1500 [==============================] - 5s 3ms/step - loss: 0.0965 - accuracy: 0.9631 - val_loss: 0.4503 - val_accuracy: 0.8932\n",
            "Epoch 42/50\n",
            "1500/1500 [==============================] - 5s 4ms/step - loss: 0.0917 - accuracy: 0.9655 - val_loss: 0.4622 - val_accuracy: 0.8944\n",
            "Epoch 43/50\n",
            "1500/1500 [==============================] - 5s 3ms/step - loss: 0.0896 - accuracy: 0.9664 - val_loss: 0.4751 - val_accuracy: 0.8907\n",
            "Epoch 44/50\n",
            "1500/1500 [==============================] - 5s 3ms/step - loss: 0.0930 - accuracy: 0.9653 - val_loss: 0.4746 - val_accuracy: 0.8894\n",
            "Epoch 45/50\n",
            "1500/1500 [==============================] - 5s 3ms/step - loss: 0.0855 - accuracy: 0.9678 - val_loss: 0.4568 - val_accuracy: 0.8939\n",
            "Epoch 46/50\n",
            "1500/1500 [==============================] - 5s 3ms/step - loss: 0.0818 - accuracy: 0.9693 - val_loss: 0.4933 - val_accuracy: 0.8930\n",
            "Epoch 47/50\n",
            "1500/1500 [==============================] - 6s 4ms/step - loss: 0.0846 - accuracy: 0.9676 - val_loss: 0.4959 - val_accuracy: 0.8926\n",
            "Epoch 48/50\n",
            "1500/1500 [==============================] - 4s 3ms/step - loss: 0.0810 - accuracy: 0.9687 - val_loss: 0.4894 - val_accuracy: 0.8944\n",
            "Epoch 49/50\n",
            "1500/1500 [==============================] - 5s 3ms/step - loss: 0.0772 - accuracy: 0.9703 - val_loss: 0.5317 - val_accuracy: 0.8914\n",
            "Epoch 50/50\n",
            "1500/1500 [==============================] - 5s 4ms/step - loss: 0.0768 - accuracy: 0.9715 - val_loss: 0.5143 - val_accuracy: 0.8917\n",
            "Best epoch: 21\n"
          ]
        }
      ],
      "source": [
        "# Build the model with the optimal hyperparameters and train it on the data for 50 epochs\n",
        "model = tuner.hypermodel.build(best_hps)\n",
        "history = model.fit(img_train, label_train, epochs=50, validation_split=0.2)\n",
        "\n",
        "val_acc_per_epoch = history.history['val_accuracy']\n",
        "best_epoch = val_acc_per_epoch.index(max(val_acc_per_epoch)) + 1\n",
        "print('Best epoch: %d' % (best_epoch,))"
      ]
    },
    {
      "cell_type": "markdown",
      "metadata": {
        "id": "uOTSirSTI3Gp"
      },
      "source": [
        "Re-instantiate the hypermodel and train it with the optimal number of epochs from above."
      ]
    },
    {
      "cell_type": "code",
      "execution_count": 37,
      "metadata": {
        "id": "NoiPUEHmMhCe",
        "colab": {
          "base_uri": "https://localhost:8080/"
        },
        "outputId": "1393557a-376b-440d-f4b8-33fb973eae21"
      },
      "outputs": [
        {
          "output_type": "stream",
          "name": "stdout",
          "text": [
            "Epoch 1/21\n",
            "1500/1500 [==============================] - 5s 3ms/step - loss: 0.5030 - accuracy: 0.8220 - val_loss: 0.4178 - val_accuracy: 0.8494\n",
            "Epoch 2/21\n",
            "1500/1500 [==============================] - 5s 3ms/step - loss: 0.3766 - accuracy: 0.8639 - val_loss: 0.3523 - val_accuracy: 0.8717\n",
            "Epoch 3/21\n",
            "1500/1500 [==============================] - 5s 3ms/step - loss: 0.3393 - accuracy: 0.8746 - val_loss: 0.3406 - val_accuracy: 0.8733\n",
            "Epoch 4/21\n",
            "1500/1500 [==============================] - 6s 4ms/step - loss: 0.3120 - accuracy: 0.8855 - val_loss: 0.3776 - val_accuracy: 0.8642\n",
            "Epoch 5/21\n",
            "1500/1500 [==============================] - 4s 3ms/step - loss: 0.2923 - accuracy: 0.8920 - val_loss: 0.3237 - val_accuracy: 0.8821\n",
            "Epoch 6/21\n",
            "1500/1500 [==============================] - 4s 3ms/step - loss: 0.2772 - accuracy: 0.8966 - val_loss: 0.3474 - val_accuracy: 0.8754\n",
            "Epoch 7/21\n",
            "1500/1500 [==============================] - 5s 3ms/step - loss: 0.2629 - accuracy: 0.9012 - val_loss: 0.3298 - val_accuracy: 0.8769\n",
            "Epoch 8/21\n",
            "1500/1500 [==============================] - 4s 3ms/step - loss: 0.2510 - accuracy: 0.9067 - val_loss: 0.3100 - val_accuracy: 0.8895\n",
            "Epoch 9/21\n",
            "1500/1500 [==============================] - 5s 3ms/step - loss: 0.2406 - accuracy: 0.9099 - val_loss: 0.3149 - val_accuracy: 0.8873\n",
            "Epoch 10/21\n",
            "1500/1500 [==============================] - 5s 3ms/step - loss: 0.2304 - accuracy: 0.9133 - val_loss: 0.3304 - val_accuracy: 0.8838\n",
            "Epoch 11/21\n",
            "1500/1500 [==============================] - 4s 3ms/step - loss: 0.2201 - accuracy: 0.9180 - val_loss: 0.3186 - val_accuracy: 0.8911\n",
            "Epoch 12/21\n",
            "1500/1500 [==============================] - 5s 3ms/step - loss: 0.2125 - accuracy: 0.9208 - val_loss: 0.3129 - val_accuracy: 0.8920\n",
            "Epoch 13/21\n",
            "1500/1500 [==============================] - 4s 3ms/step - loss: 0.2057 - accuracy: 0.9231 - val_loss: 0.3144 - val_accuracy: 0.8932\n",
            "Epoch 14/21\n",
            "1500/1500 [==============================] - 4s 3ms/step - loss: 0.1981 - accuracy: 0.9258 - val_loss: 0.3315 - val_accuracy: 0.8890\n",
            "Epoch 15/21\n",
            "1500/1500 [==============================] - 5s 4ms/step - loss: 0.1902 - accuracy: 0.9290 - val_loss: 0.3270 - val_accuracy: 0.8939\n",
            "Epoch 16/21\n",
            "1500/1500 [==============================] - 5s 3ms/step - loss: 0.1836 - accuracy: 0.9309 - val_loss: 0.3308 - val_accuracy: 0.8954\n",
            "Epoch 17/21\n",
            "1500/1500 [==============================] - 5s 4ms/step - loss: 0.1764 - accuracy: 0.9343 - val_loss: 0.3394 - val_accuracy: 0.8863\n",
            "Epoch 18/21\n",
            "1500/1500 [==============================] - 5s 3ms/step - loss: 0.1714 - accuracy: 0.9353 - val_loss: 0.3325 - val_accuracy: 0.8916\n",
            "Epoch 19/21\n",
            "1500/1500 [==============================] - 4s 3ms/step - loss: 0.1659 - accuracy: 0.9383 - val_loss: 0.3336 - val_accuracy: 0.8942\n",
            "Epoch 20/21\n",
            "1500/1500 [==============================] - 5s 3ms/step - loss: 0.1582 - accuracy: 0.9404 - val_loss: 0.3507 - val_accuracy: 0.8902\n",
            "Epoch 21/21\n",
            "1500/1500 [==============================] - 4s 3ms/step - loss: 0.1562 - accuracy: 0.9418 - val_loss: 0.3614 - val_accuracy: 0.8930\n"
          ]
        },
        {
          "output_type": "execute_result",
          "data": {
            "text/plain": [
              "<keras.src.callbacks.History at 0x7efbc9762d70>"
            ]
          },
          "metadata": {},
          "execution_count": 37
        }
      ],
      "source": [
        "hypermodel = tuner.hypermodel.build(best_hps)\n",
        "\n",
        "# Retrain the model\n",
        "hypermodel.fit(img_train, label_train, epochs=best_epoch, validation_split=0.2)"
      ]
    },
    {
      "cell_type": "markdown",
      "metadata": {
        "id": "MqU5ZVAaag2v"
      },
      "source": [
        "To finish this tutorial, evaluate the hypermodel on the test data."
      ]
    },
    {
      "cell_type": "code",
      "execution_count": 38,
      "metadata": {
        "id": "9E0BTp9Ealjb",
        "colab": {
          "base_uri": "https://localhost:8080/"
        },
        "outputId": "275c7087-2097-49df-fe44-957959f46664"
      },
      "outputs": [
        {
          "output_type": "stream",
          "name": "stdout",
          "text": [
            "313/313 [==============================] - 1s 2ms/step - loss: 0.4065 - accuracy: 0.8838\n",
            "[test loss, test accuracy]: [0.40654459595680237, 0.8838000297546387]\n"
          ]
        }
      ],
      "source": [
        "eval_result = hypermodel.evaluate(img_test, label_test)\n",
        "print(\"[test loss, test accuracy]:\", eval_result)"
      ]
    },
    {
      "cell_type": "markdown",
      "metadata": {
        "id": "EQRpPHZsz-eC"
      },
      "source": [
        "The `my_dir/intro_to_kt` directory contains detailed logs and checkpoints for every trial (model configuration) run during the hyperparameter search. If you re-run the hyperparameter search, the Keras Tuner uses the existing state from these logs to resume the search. To disable this behavior, pass an additional `overwrite=True` argument while instantiating the tuner."
      ]
    },
    {
      "cell_type": "markdown",
      "metadata": {
        "id": "sKwLOzKpFGAj"
      },
      "source": [
        "## Summary\n",
        "\n",
        "In this tutorial, you learned how to use the Keras Tuner to tune hyperparameters for a model. To learn more about the Keras Tuner, check out these additional resources:\n",
        "\n",
        "* [Keras Tuner on the TensorFlow blog](https://blog.tensorflow.org/2020/01/hyperparameter-tuning-with-keras-tuner.html)\n",
        "* [Keras Tuner website](https://keras-team.github.io/keras-tuner/)\n",
        "\n",
        "Also check out the [HParams Dashboard](https://www.tensorflow.org/tensorboard/hyperparameter_tuning_with_hparams) in TensorBoard to interactively tune your model hyperparameters."
      ]
    }
  ],
  "metadata": {
    "accelerator": "GPU",
    "colab": {
      "collapsed_sections": [
        "Tce3stUlHN0L"
      ],
      "name": "keras_tuner.ipynb",
      "toc_visible": true,
      "provenance": [],
      "include_colab_link": true
    },
    "kernelspec": {
      "display_name": "Python 3",
      "name": "python3"
    }
  },
  "nbformat": 4,
  "nbformat_minor": 0
}